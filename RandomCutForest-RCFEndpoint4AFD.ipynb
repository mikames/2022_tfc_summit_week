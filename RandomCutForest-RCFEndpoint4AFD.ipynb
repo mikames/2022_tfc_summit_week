{
 "cells": [
  {
   "cell_type": "markdown",
   "id": "49432609",
   "metadata": {},
   "source": [
    "# Amazon Fraud Detector & Anomaly Detection via RandomCutForest\n",
    "\n",
    "Mike Ames / mikames@amazon.com  \n",
    "\n",
    "Marcel Pivdal / pividm@amazon.com\n",
    "\n",
    "\n",
    "### Overview\n",
    "-----\n",
    "\n",
    "There are dozens (probably hundreds) of books dedicated to the subject of anomaly and outlier detection. The most common approaches expect that you know what “normal” looks like so that you can identify instances that don’t conform to the “normal” profile. There are statistical techniques, supervised, unsupervised, even semi-supervised methods to look at anomalies in data. This notebook uses Amazon SageMaker’s Random Cut Forest method to detect anomalous data points within a data set. RCF is an unsupervised algorithm which can be used to identify observations which diverge from otherwise well-structured data. \n",
    "\n",
    "RCF associates each data point with anomaly score. Low score values indicate that the data point is considered \"normal.\" High values indicate the presence of an anomaly in the data. The definitions of \"low\" and \"high\" depend on the dataset as well see. \n",
    "\n",
    "\n",
    "### How to use this notebook \n",
    "-----\n",
    "The goal of this notebook is to generate a RandomCutForest endpoint that you can import into Amazon Fraud Detector.\n",
    "\n",
    "basically, all this does is train a RCF, create an endpiont, adds an external variable to Fraud Detector so you can integrate an endpoint.\n",
    "\n",
    "\n",
    "#### Setup \n",
    "-----\n",
    "To get started you need the following information \n",
    "1. location of your CSV file to train on. \n",
    "2. you'll need to fire up sagemaker and ensure that the sagemaker user is authorized to publish an endpiont \n",
    "3. location of where you want to write out your CSV file. \n",
    "\n",
    "\n",
    "<div class=\"alert alert-info\"> <strong> Overview </strong>\n",
    "\n",
    "- S3_BUCKET: this is the location you will be reading and writing from \n",
    "- S3_FILE_IN: this is the input file name you'll use to train your RCF on.   \n",
    "- S3_FILE_OUT: this is the output file name you'll write your CSV file out with. \n",
    "\n",
    "</div>\n"
   ]
  },
  {
   "cell_type": "code",
   "execution_count": 1,
   "id": "a195ebb8",
   "metadata": {},
   "outputs": [
    {
     "data": {
      "text/html": [
       "<style>.container { width:90% }</style>"
      ],
      "text/plain": [
       "<IPython.core.display.HTML object>"
      ]
     },
     "metadata": {},
     "output_type": "display_data"
    }
   ],
   "source": [
    "from IPython.core.display import display, HTML\n",
    "from IPython.display import clear_output\n",
    "display(HTML(\"<style>.container { width:90% }</style>\"))\n",
    "import warnings\n",
    "warnings.filterwarnings('ignore')\n",
    "# ------------------------------------------------------------------\n",
    "\n",
    "# -- common stuff -- \n",
    "import numpy as np\n",
    "import pandas as pd\n",
    "from sklearn.model_selection import train_test_split\n",
    "from sklearn.metrics import precision_score, recall_score\n",
    "import matplotlib.pyplot as plt\n",
    "import seaborn as sns\n",
    "from io import StringIO\n",
    "\n",
    "# -- AWS stuff --- \n",
    "import boto3\n",
    "import botocore\n",
    "import sagemaker\n",
    "import sys\n",
    "\n",
    "role = sagemaker.get_execution_role()\n",
    "# -- need this to render charts in notebook -- \n",
    "%matplotlib inline"
   ]
  },
  {
   "cell_type": "markdown",
   "id": "5ece5b70",
   "metadata": {},
   "source": [
    "## Your Dataset and Location \n",
    "\n",
    "---- \n",
    "\n",
    "My dataset happens to be located in a S3 bucket, yours could be local just change the read_csv to the appropraite location. All we are going to do here is read the file into a panda's dataframe. Then \n",
    "\n",
    "<div class=\"alert alert-info\"> <strong> S3 </strong>\n",
    " \n",
    "- S3_BUCKET : name of the bucket containing the file \n",
    "- S3_FILE_IN   : name of the file you will train your RCF with, often known as the file_ or data_key\n",
    "\n",
    "\n",
    "\n",
    "### Dataset Format \n",
    "\n",
    "Assuming we are using Amazon Fraud Detector, your file may or may not contain an EVENT_LABEL but should contain an EVENT_TIMESTAMP. We will be creating an EVENT_LABEL based on the RCF score below. IF you do have an EVENT_LABEL in the data we'll use this to evaluate how well the RCF performs on your sample data. \n"
   ]
  },
  {
   "cell_type": "code",
   "execution_count": 43,
   "id": "1526276c",
   "metadata": {},
   "outputs": [
    {
     "name": "stdout",
     "output_type": "stream",
     "text": [
      "input file location: s3://2022-data/rcf_110k.csv\n",
      "input file location: s3://2022-data/rcf_110k_prepared.csv\n"
     ]
    },
    {
     "data": {
      "text/html": [
       "<div>\n",
       "<style scoped>\n",
       "    .dataframe tbody tr th:only-of-type {\n",
       "        vertical-align: middle;\n",
       "    }\n",
       "\n",
       "    .dataframe tbody tr th {\n",
       "        vertical-align: top;\n",
       "    }\n",
       "\n",
       "    .dataframe thead th {\n",
       "        text-align: right;\n",
       "    }\n",
       "</style>\n",
       "<table border=\"1\" class=\"dataframe\">\n",
       "  <thead>\n",
       "    <tr style=\"text-align: right;\">\n",
       "      <th></th>\n",
       "      <th>account_tenure_yrs</th>\n",
       "      <th>normalized_currency_amt</th>\n",
       "      <th>original_currency_amt</th>\n",
       "      <th>currency</th>\n",
       "      <th>EVENT_TIMESTAMP</th>\n",
       "      <th>ip_address</th>\n",
       "      <th>email_address</th>\n",
       "      <th>EVENT_LABEL</th>\n",
       "    </tr>\n",
       "  </thead>\n",
       "  <tbody>\n",
       "    <tr>\n",
       "      <th>0</th>\n",
       "      <td>11.0</td>\n",
       "      <td>38334.0</td>\n",
       "      <td>36466.0</td>\n",
       "      <td>eur</td>\n",
       "      <td>2021-08-14 05:38:58</td>\n",
       "      <td>57.115.15.248</td>\n",
       "      <td>lcarlson@example.org</td>\n",
       "      <td>legit</td>\n",
       "    </tr>\n",
       "    <tr>\n",
       "      <th>1</th>\n",
       "      <td>6.0</td>\n",
       "      <td>50104.0</td>\n",
       "      <td>24775.0</td>\n",
       "      <td>usd</td>\n",
       "      <td>2021-10-21 13:29:39</td>\n",
       "      <td>203.218.41.214</td>\n",
       "      <td>brianfowler@example.org</td>\n",
       "      <td>legit</td>\n",
       "    </tr>\n",
       "    <tr>\n",
       "      <th>2</th>\n",
       "      <td>16.0</td>\n",
       "      <td>21516.0</td>\n",
       "      <td>46364.0</td>\n",
       "      <td>usd</td>\n",
       "      <td>2021-06-18 03:28:47</td>\n",
       "      <td>131.7.35.71</td>\n",
       "      <td>lthomas@example.org</td>\n",
       "      <td>legit</td>\n",
       "    </tr>\n",
       "    <tr>\n",
       "      <th>3</th>\n",
       "      <td>6.0</td>\n",
       "      <td>50446.0</td>\n",
       "      <td>23668.0</td>\n",
       "      <td>usd</td>\n",
       "      <td>2021-05-08 22:44:29</td>\n",
       "      <td>150.245.11.96</td>\n",
       "      <td>victoria20@example.com</td>\n",
       "      <td>legit</td>\n",
       "    </tr>\n",
       "    <tr>\n",
       "      <th>4</th>\n",
       "      <td>10.0</td>\n",
       "      <td>43560.0</td>\n",
       "      <td>32309.0</td>\n",
       "      <td>eur</td>\n",
       "      <td>2021-08-24 00:17:08</td>\n",
       "      <td>155.110.112.38</td>\n",
       "      <td>amandamartinez@example.com</td>\n",
       "      <td>legit</td>\n",
       "    </tr>\n",
       "  </tbody>\n",
       "</table>\n",
       "</div>"
      ],
      "text/plain": [
       "   account_tenure_yrs  normalized_currency_amt  original_currency_amt  \\\n",
       "0                11.0                  38334.0                36466.0   \n",
       "1                 6.0                  50104.0                24775.0   \n",
       "2                16.0                  21516.0                46364.0   \n",
       "3                 6.0                  50446.0                23668.0   \n",
       "4                10.0                  43560.0                32309.0   \n",
       "\n",
       "  currency      EVENT_TIMESTAMP      ip_address               email_address  \\\n",
       "0      eur  2021-08-14 05:38:58   57.115.15.248        lcarlson@example.org   \n",
       "1      usd  2021-10-21 13:29:39  203.218.41.214     brianfowler@example.org   \n",
       "2      usd  2021-06-18 03:28:47     131.7.35.71         lthomas@example.org   \n",
       "3      usd  2021-05-08 22:44:29   150.245.11.96      victoria20@example.com   \n",
       "4      eur  2021-08-24 00:17:08  155.110.112.38  amandamartinez@example.com   \n",
       "\n",
       "  EVENT_LABEL  \n",
       "0       legit  \n",
       "1       legit  \n",
       "2       legit  \n",
       "3       legit  \n",
       "4       legit  "
      ]
     },
     "execution_count": 43,
     "metadata": {},
     "output_type": "execute_result"
    }
   ],
   "source": [
    "S3_BUCKET = '2022-data'\n",
    "S3_FILE_IN   = 'rcf_110k.csv'\n",
    "S3_FILE_OUT   = 'rcf_110k_prepared.csv'\n",
    "S3_LOCATION = 's3://{}/{}'.format(S3_BUCKET, S3_FILE_IN)\n",
    "S3_LOCATION_OUT = 's3://{}/{}'.format(S3_BUCKET, S3_FILE_OUT)\n",
    "print(\"input file location: {}\".format(S3_LOCATION))\n",
    "print(\"input file location: {}\".format(S3_LOCATION_OUT))\n",
    "df = pd.read_csv(S3_LOCATION)\n",
    "df.head()\n"
   ]
  },
  {
   "cell_type": "markdown",
   "id": "8e949015",
   "metadata": {},
   "source": [
    "## Profile the data. \n",
    "-----\n",
    "\n",
    "The following function simply profiles your data frame and determines which variables shoudl be included and how they should be handled for the RCF."
   ]
  },
  {
   "cell_type": "code",
   "execution_count": 3,
   "id": "aa71711a",
   "metadata": {},
   "outputs": [
    {
     "data": {
      "text/html": [
       "<div>\n",
       "<style scoped>\n",
       "    .dataframe tbody tr th:only-of-type {\n",
       "        vertical-align: middle;\n",
       "    }\n",
       "\n",
       "    .dataframe tbody tr th {\n",
       "        vertical-align: top;\n",
       "    }\n",
       "\n",
       "    .dataframe thead th {\n",
       "        text-align: right;\n",
       "    }\n",
       "</style>\n",
       "<table border=\"1\" class=\"dataframe\">\n",
       "  <thead>\n",
       "    <tr style=\"text-align: right;\">\n",
       "      <th></th>\n",
       "      <th>feature_name</th>\n",
       "      <th>dtype</th>\n",
       "      <th>count</th>\n",
       "      <th>nunique</th>\n",
       "      <th>mean</th>\n",
       "      <th>min</th>\n",
       "      <th>max</th>\n",
       "      <th>null</th>\n",
       "      <th>not_null</th>\n",
       "      <th>null_pct</th>\n",
       "      <th>nunique_pct</th>\n",
       "      <th>feature_type</th>\n",
       "      <th>feature_warning</th>\n",
       "    </tr>\n",
       "  </thead>\n",
       "  <tbody>\n",
       "    <tr>\n",
       "      <th>0</th>\n",
       "      <td>account_tenure_yrs</td>\n",
       "      <td>float64</td>\n",
       "      <td>110000</td>\n",
       "      <td>25</td>\n",
       "      <td>11.412</td>\n",
       "      <td>0</td>\n",
       "      <td>24</td>\n",
       "      <td>0</td>\n",
       "      <td>110000</td>\n",
       "      <td>0.0</td>\n",
       "      <td>0.000227</td>\n",
       "      <td>NUMERIC</td>\n",
       "      <td>NO WARNING</td>\n",
       "    </tr>\n",
       "    <tr>\n",
       "      <th>1</th>\n",
       "      <td>normalized_currency_amt</td>\n",
       "      <td>float64</td>\n",
       "      <td>110000</td>\n",
       "      <td>35468</td>\n",
       "      <td>41020.2</td>\n",
       "      <td>100</td>\n",
       "      <td>99999</td>\n",
       "      <td>0</td>\n",
       "      <td>110000</td>\n",
       "      <td>0.0</td>\n",
       "      <td>0.322436</td>\n",
       "      <td>NUMERIC</td>\n",
       "      <td>NO WARNING</td>\n",
       "    </tr>\n",
       "    <tr>\n",
       "      <th>2</th>\n",
       "      <td>original_currency_amt</td>\n",
       "      <td>float64</td>\n",
       "      <td>110000</td>\n",
       "      <td>49692</td>\n",
       "      <td>42961.1</td>\n",
       "      <td>100</td>\n",
       "      <td>99999</td>\n",
       "      <td>0</td>\n",
       "      <td>110000</td>\n",
       "      <td>0.0</td>\n",
       "      <td>0.451745</td>\n",
       "      <td>NUMERIC</td>\n",
       "      <td>NO WARNING</td>\n",
       "    </tr>\n",
       "    <tr>\n",
       "      <th>3</th>\n",
       "      <td>currency</td>\n",
       "      <td>object</td>\n",
       "      <td>110000</td>\n",
       "      <td>3</td>\n",
       "      <td>NaN</td>\n",
       "      <td>cad</td>\n",
       "      <td>usd</td>\n",
       "      <td>0</td>\n",
       "      <td>110000</td>\n",
       "      <td>0.0</td>\n",
       "      <td>0.000027</td>\n",
       "      <td>CATEGORY</td>\n",
       "      <td>NO WARNING</td>\n",
       "    </tr>\n",
       "    <tr>\n",
       "      <th>4</th>\n",
       "      <td>EVENT_TIMESTAMP</td>\n",
       "      <td>object</td>\n",
       "      <td>110000</td>\n",
       "      <td>109800</td>\n",
       "      <td>NaN</td>\n",
       "      <td>2021-04-13 03:45:59</td>\n",
       "      <td>2022-04-13 09:28:40</td>\n",
       "      <td>0</td>\n",
       "      <td>110000</td>\n",
       "      <td>0.0</td>\n",
       "      <td>0.998182</td>\n",
       "      <td>EVENT_TIMESTAMP</td>\n",
       "      <td>EXCLUDE, GT 70% UNIQUE</td>\n",
       "    </tr>\n",
       "    <tr>\n",
       "      <th>5</th>\n",
       "      <td>ip_address</td>\n",
       "      <td>object</td>\n",
       "      <td>110000</td>\n",
       "      <td>109999</td>\n",
       "      <td>NaN</td>\n",
       "      <td>1.1.25.108</td>\n",
       "      <td>99.94.90.205</td>\n",
       "      <td>0</td>\n",
       "      <td>110000</td>\n",
       "      <td>0.0</td>\n",
       "      <td>0.999991</td>\n",
       "      <td>IGNORE</td>\n",
       "      <td>EXCLUDE, GT 70% UNIQUE</td>\n",
       "    </tr>\n",
       "    <tr>\n",
       "      <th>6</th>\n",
       "      <td>email_address</td>\n",
       "      <td>object</td>\n",
       "      <td>110000</td>\n",
       "      <td>93435</td>\n",
       "      <td>NaN</td>\n",
       "      <td>aabbott@example.com</td>\n",
       "      <td>zzimmerman@example.com</td>\n",
       "      <td>0</td>\n",
       "      <td>110000</td>\n",
       "      <td>0.0</td>\n",
       "      <td>0.849409</td>\n",
       "      <td>IGNORE</td>\n",
       "      <td>EXCLUDE, GT 70% UNIQUE</td>\n",
       "    </tr>\n",
       "    <tr>\n",
       "      <th>7</th>\n",
       "      <td>EVENT_LABEL</td>\n",
       "      <td>object</td>\n",
       "      <td>110000</td>\n",
       "      <td>2</td>\n",
       "      <td>NaN</td>\n",
       "      <td>fraud</td>\n",
       "      <td>legit</td>\n",
       "      <td>0</td>\n",
       "      <td>110000</td>\n",
       "      <td>0.0</td>\n",
       "      <td>0.000018</td>\n",
       "      <td>TARGET</td>\n",
       "      <td>TARGET VARIABLE</td>\n",
       "    </tr>\n",
       "  </tbody>\n",
       "</table>\n",
       "</div>"
      ],
      "text/plain": [
       "              feature_name    dtype   count  nunique     mean  \\\n",
       "0       account_tenure_yrs  float64  110000       25   11.412   \n",
       "1  normalized_currency_amt  float64  110000    35468  41020.2   \n",
       "2    original_currency_amt  float64  110000    49692  42961.1   \n",
       "3                 currency   object  110000        3      NaN   \n",
       "4          EVENT_TIMESTAMP   object  110000   109800      NaN   \n",
       "5               ip_address   object  110000   109999      NaN   \n",
       "6            email_address   object  110000    93435      NaN   \n",
       "7              EVENT_LABEL   object  110000        2      NaN   \n",
       "\n",
       "                   min                     max  null  not_null  null_pct  \\\n",
       "0                    0                      24     0    110000       0.0   \n",
       "1                  100                   99999     0    110000       0.0   \n",
       "2                  100                   99999     0    110000       0.0   \n",
       "3                  cad                     usd     0    110000       0.0   \n",
       "4  2021-04-13 03:45:59     2022-04-13 09:28:40     0    110000       0.0   \n",
       "5           1.1.25.108            99.94.90.205     0    110000       0.0   \n",
       "6  aabbott@example.com  zzimmerman@example.com     0    110000       0.0   \n",
       "7                fraud                   legit     0    110000       0.0   \n",
       "\n",
       "   nunique_pct     feature_type         feature_warning  \n",
       "0     0.000227          NUMERIC              NO WARNING  \n",
       "1     0.322436          NUMERIC              NO WARNING  \n",
       "2     0.451745          NUMERIC              NO WARNING  \n",
       "3     0.000027         CATEGORY              NO WARNING  \n",
       "4     0.998182  EVENT_TIMESTAMP  EXCLUDE, GT 70% UNIQUE  \n",
       "5     0.999991           IGNORE  EXCLUDE, GT 70% UNIQUE  \n",
       "6     0.849409           IGNORE  EXCLUDE, GT 70% UNIQUE  \n",
       "7     0.000018           TARGET         TARGET VARIABLE  "
      ]
     },
     "execution_count": 3,
     "metadata": {},
     "output_type": "execute_result"
    }
   ],
   "source": [
    "def df_profile(df):\n",
    "    \n",
    "    df = df.copy()\n",
    "    \n",
    "    numeric_features = [ c for c in df.select_dtypes(include = np.number).columns ]\n",
    "    \n",
    "    categorical_features = [ c for c in df.select_dtypes(include = np.object).columns ]\n",
    "   \n",
    "    rowcnt = len(df)\n",
    "    df_s1  = df.agg(['count', 'nunique','mean','min','max']).transpose().reset_index().rename(columns={\"index\":\"feature_name\"}).round(4)\n",
    "    df_s1['count'] = df_s1['count'].astype('int64')\n",
    "    df_s1['nunique'] = df_s1['nunique'].astype('int64')\n",
    "    df_s1[\"null\"] = (rowcnt - df_s1[\"count\"]).astype('int64')\n",
    "    df_s1[\"not_null\"] = rowcnt - df_s1[\"null\"]\n",
    "    df_s1[\"null_pct\"] = df_s1[\"null\"] / rowcnt\n",
    "    df_s1[\"nunique_pct\"] = df_s1['nunique'] / rowcnt\n",
    "    dt = pd.DataFrame(df.dtypes).reset_index().rename(columns={\"index\":\"feature_name\", 0:\"dtype\"})\n",
    "    df_stats = pd.merge(dt, df_s1, on='feature_name', how='inner')\n",
    "\n",
    "    df_stats = df_stats.sort_values(\"dtype\").reset_index(drop=True)\n",
    "    # -- part 2 \n",
    "    df_stats['feature_type'] = \"IGNORE\"\n",
    "    df_stats.loc[(df_stats[\"dtype\"] == object) & (df_stats[\"nunique\"] <= 32), 'feature_type'] = \"CATEGORY\"\n",
    "    df_stats.loc[(df_stats[\"dtype\"] == \"int64\") | (df_stats[\"dtype\"] == \"float64\"), 'feature_type'] = \"NUMERIC\"\n",
    "    # df_stats.loc[df_stats[\"dtype\"] == \"float64\", 'feature_type'] = \"NUMERIC\"\n",
    "    df_stats.loc[df_stats[\"feature_name\"] == \"EVENT_LABEL\", 'feature_type'] = \"TARGET\"\n",
    "    df_stats.loc[df_stats[\"feature_name\"] == \"EVENT_TIMESTAMP\", 'feature_type'] = \"EVENT_TIMESTAMP\"\n",
    "    \n",
    "    \n",
    "    # -- part 3 \n",
    "    df_stats['feature_warning'] = \"NO WARNING\"\n",
    "    df_stats.loc[df_stats[\"nunique_pct\"] > 0.7,'feature_warning' ] = \"EXCLUDE, GT 70% UNIQUE\"\n",
    "    df_stats.loc[(df_stats[\"null_pct\"] > 0.2) & (df_stats[\"null_pct\"] <= 0.5), 'feature_warning' ] = \"NULL WARNING, GT 20% MISSING\"\n",
    "    df_stats.loc[df_stats[\"null_pct\"] > 0.5,'feature_warning' ] = \"EXCLUDE, GT 50% MISSING\"\n",
    "    #if null_pct > 0.2 then feature_warning = \"NULL WARNING, GT 20% MISSING\"\n",
    "    df_stats.loc[((df_stats['dtype'] == \"int64\" ) | (df_stats['dtype'] == \"float64\" ) ) & (df_stats['nunique'] < 0.2), 'feature_warning' ] = \"LIKELY CATEGORICAL, NUMERIC w. LOW CARDINALITY\"\n",
    "    #df_stats.loc[((df_stats['dtype'] == \"int64\" ) | (df_stats['dtype'] == \"float64\" ) ) & (df_stats['nunique'] < 0.2), 'feature_warning' ] = \"LIKELY CATEGORICAL, NUMERIC w. LOW CARDINALITY\"\n",
    "    df_stats.loc[df_stats[\"feature_name\"] == \"EVENT_LABEL\",'feature_warning' ] = \"TARGET VARIABLE\"\n",
    "    return df_stats\n",
    "\n",
    "df_stats = df_profile(df)\n",
    "df_stats\n"
   ]
  },
  {
   "cell_type": "markdown",
   "id": "c75a5b32",
   "metadata": {},
   "source": [
    "## Data Transformation \n",
    "-----\n",
    "RCF only works on numeric data so we are going to identify which variables we want to use based on the profile and how we'll handle nulls and categorical variables. You can ooptionally overwrite the selection.\n",
    "\n",
    "- numeric variables with null values will be replaced with -1 \n",
    "- categorical variables with null values will be replaced with \"UNKNOWN\"\n",
    "- categorical variables will be dummy encoded for simplicy\n",
    "\n",
    "> Note: only categories with fewer than 32 levels are included, there are of course several other transformations we could perform but this will get the ball rolling!\n",
    "\n",
    "----\n",
    "If you want to include or exclude varaibles in the detection simply specify the variable names in a list like this \n",
    "\n",
    "```python\n",
    "\n",
    "numeric_features = ['account_tenure_yrs', 'normalized_currency_amt', 'original_currency_amt']\n",
    "categorical_features = ['currency']\n",
    "\n",
    "```\n",
    "\n",
    "finally, we are going to check your file to see if it contains an EVENT label if it does pleas identity the \"fraud\" label, we'll perserve the frauds and use them to assess your RCF model"
   ]
  },
  {
   "cell_type": "code",
   "execution_count": 4,
   "id": "77800be3",
   "metadata": {},
   "outputs": [
    {
     "data": {
      "text/plain": [
       "['account_tenure_yrs', 'normalized_currency_amt', 'original_currency_amt']"
      ]
     },
     "execution_count": 4,
     "metadata": {},
     "output_type": "execute_result"
    }
   ],
   "source": [
    "numeric_features = df_stats[df_stats[\"feature_type\"] == \"NUMERIC\"][\"feature_name\"].tolist()\n",
    "numeric_features"
   ]
  },
  {
   "cell_type": "code",
   "execution_count": 5,
   "id": "8947ae52",
   "metadata": {},
   "outputs": [
    {
     "data": {
      "text/plain": [
       "['currency']"
      ]
     },
     "execution_count": 5,
     "metadata": {},
     "output_type": "execute_result"
    }
   ],
   "source": [
    "categorical_features = df_stats[df_stats[\"feature_type\"] == \"CATEGORY\"][\"feature_name\"].tolist()\n",
    "categorical_features = []"
   ]
  },
  {
   "cell_type": "code",
   "execution_count": 12,
   "id": "cfced1b6",
   "metadata": {},
   "outputs": [
    {
     "name": "stdout",
     "output_type": "stream",
     "text": [
      "your dataset does contain EVENT_LABEL, we can perserve your labeled events below\n",
      "number input features: 3\n"
     ]
    }
   ],
   "source": [
    "event_label_ind = df_stats.query('feature_name == \"EVENT_LABEL\"').shape[0]\n",
    "if event_label_ind == 0:\n",
    "    print(\"your dataset doesn't contain a EVENT_LABEL, no problem this will create one for you\")\n",
    "    feature_count = df[numeric_features].shape[1]\n",
    "    print(\"number input features: {}\".format(feature_count))\n",
    "if event_label_ind == 1:\n",
    "    print(\"your dataset does contain EVENT_LABEL, we can perserve your labeled events below\")\n",
    "    # feature count will give us the dimensionality of our numpy array. \n",
    "    feature_count = df[numeric_features].shape[1]\n",
    "    print(\"number input features: {}\".format(feature_count))\n",
    "    \n"
   ]
  },
  {
   "cell_type": "code",
   "execution_count": 8,
   "id": "c1397eb5",
   "metadata": {},
   "outputs": [],
   "source": [
    "# -- define your fraud label, IF you have an EVENT_LABEL!\n",
    "FRAUD_LABEL = \"fraud\""
   ]
  },
  {
   "cell_type": "markdown",
   "id": "cfe1437d",
   "metadata": {},
   "source": [
    "## Train your RandomCutForest \n",
    "\n",
    "The following will kick off a fit of RandomCutForest \n",
    "you can tinker with the following parameters \n",
    "\n",
    "num_samples_per_tree - this is the number of samples used to train each tree if there is little variation in the data 512 is fine, larger for more variation.  \n",
    "\n",
    "\n",
    "- num_trees - number of randomly constructed trees. Increasing num_trees has the effect of reducing the noise observed in anomaly scores since the final score is the average of the scores reported by each tree. It is recommend to start with 100 trees as a balance between score noise and model complexity. \n",
    "\n",
    "- num_samples_per_tree - this is the number of samples used to train each tree. num_samples_per_tree is related to the '''expected density''' of anomalies in the dataset. In particular, num_samples_per_tree should be chosen such that 1/num_samples_per_tree approximates the ratio of anomalous data to normal data. For example, if 256 samples are used in each tree then we expect our data to contain anomalies 1/256 or approximately 0.4% of the time. Again, an optimal value for this hyperparameter is dependent on the application.\n",
    "\n",
    "\n",
    "NOTE: RandomCutForest takes a numpy array as training data, so you'll want to convert to an array and reshape the array to number of records (-1) and width of numeric columns (3) for this dataset. if you add dummies for currency for example you'll have 3 currencies of 0s and 1s. \n",
    "\n"
   ]
  },
  {
   "cell_type": "code",
   "execution_count": 13,
   "id": "3a622718",
   "metadata": {},
   "outputs": [
    {
     "name": "stderr",
     "output_type": "stream",
     "text": [
      "Defaulting to the only supported framework/algorithm version: 1. Ignoring framework/algorithm version: 1.\n",
      "Defaulting to the only supported framework/algorithm version: 1. Ignoring framework/algorithm version: 1.\n"
     ]
    },
    {
     "name": "stdout",
     "output_type": "stream",
     "text": [
      "2022-04-25 19:47:07 Starting - Starting the training job...\n",
      "2022-04-25 19:47:34 Starting - Preparing the instances for trainingProfilerReport-1650916027: InProgress\n",
      ".........\n",
      "2022-04-25 19:48:58 Downloading - Downloading input data...\n",
      "2022-04-25 19:49:29 Training - Downloading the training image......\n",
      "2022-04-25 19:50:30 Training - Training image download completed. Training in progress.\u001b[34mDocker entrypoint called with argument(s): train\u001b[0m\n",
      "\u001b[34mRunning default environment configuration script\u001b[0m\n",
      "\u001b[34m[04/25/2022 19:50:37 INFO 140701326300992 integration.py:636] worker started\u001b[0m\n",
      "\u001b[34m[04/25/2022 19:50:37 INFO 140701326300992] Reading default configuration from /opt/amazon/lib/python3.7/site-packages/algorithm/resources/default-conf.json: {'num_samples_per_tree': 256, 'num_trees': 100, 'force_dense': 'true', 'eval_metrics': ['accuracy', 'precision_recall_fscore'], 'epochs': 1, 'mini_batch_size': 1000, '_log_level': 'info', '_kvstore': 'dist_async', '_num_kv_servers': 'auto', '_num_gpus': 'auto', '_tuning_objective_metric': '', '_ftp_port': 8999}\u001b[0m\n",
      "\u001b[34m[04/25/2022 19:50:37 INFO 140701326300992] Merging with provided configuration from /opt/ml/input/config/hyperparameters.json: {'feature_dim': '3', 'mini_batch_size': '1000', 'num_samples_per_tree': '512', 'num_trees': '100'}\u001b[0m\n",
      "\u001b[34m[04/25/2022 19:50:37 INFO 140701326300992] Final configuration: {'num_samples_per_tree': '512', 'num_trees': '100', 'force_dense': 'true', 'eval_metrics': ['accuracy', 'precision_recall_fscore'], 'epochs': 1, 'mini_batch_size': '1000', '_log_level': 'info', '_kvstore': 'dist_async', '_num_kv_servers': 'auto', '_num_gpus': 'auto', '_tuning_objective_metric': '', '_ftp_port': 8999, 'feature_dim': '3'}\u001b[0m\n",
      "\u001b[34m[04/25/2022 19:50:37 WARNING 140701326300992] Loggers have already been setup.\u001b[0m\n",
      "\u001b[34m[04/25/2022 19:50:37 INFO 140701326300992] Launching parameter server for role scheduler\u001b[0m\n",
      "\u001b[34m[04/25/2022 19:50:37 INFO 140701326300992] {'ENVROOT': '/opt/amazon', 'PROTOCOL_BUFFERS_PYTHON_IMPLEMENTATION': 'cpp', 'HOSTNAME': 'ip-10-0-74-253.us-west-2.compute.internal', 'TRAINING_JOB_NAME': 'randomcutforest-2022-04-25-19-47-07-211', 'NVIDIA_REQUIRE_CUDA': 'cuda>=9.0', 'TRAINING_JOB_ARN': 'arn:aws:sagemaker:us-west-2:304243717290:training-job/randomcutforest-2022-04-25-19-47-07-211', 'AWS_CONTAINER_CREDENTIALS_RELATIVE_URI': '/v2/credentials/proxy-54113d4ef7130413b4b6b5831f56292544a01b39a90ab7241b1a0af63f9d2b36-customer', 'CANONICAL_ENVROOT': '/opt/amazon', 'PYTHONUNBUFFERED': 'TRUE', 'NVIDIA_VISIBLE_DEVICES': 'all', 'LD_LIBRARY_PATH': '/opt/amazon/lib/python3.7/site-packages/cv2/../../../../lib:/usr/local/nvidia/lib64:/opt/amazon/lib', 'MXNET_KVSTORE_BIGARRAY_BOUND': '400000000', 'NVIDIA_DRIVER_CAPABILITIES': 'compute,utility', 'PATH': '/opt/amazon/bin:/usr/local/nvidia/bin:/usr/local/sbin:/usr/local/bin:/usr/sbin:/usr/bin:/sbin:/bin', 'PWD': '/', 'LANG': 'en_US.utf8', 'AWS_REGION': 'us-west-2', 'SAGEMAKER_METRICS_DIRECTORY': '/opt/ml/output/metrics/sagemaker', 'HOME': '/root', 'SHLVL': '1', 'PROTOCOL_BUFFERS_PYTHON_IMPLEMENTATION_VERSION': '2', 'OMP_NUM_THREADS': '2', 'DMLC_INTERFACE': 'eth0', 'SAGEMAKER_HTTP_PORT': '8080', 'SAGEMAKER_DATA_PATH': '/opt/ml', 'KMP_DUPLICATE_LIB_OK': 'True', 'KMP_INIT_AT_FORK': 'FALSE'}\u001b[0m\n",
      "\u001b[34m[04/25/2022 19:50:37 INFO 140701326300992] envs={'ENVROOT': '/opt/amazon', 'PROTOCOL_BUFFERS_PYTHON_IMPLEMENTATION': 'cpp', 'HOSTNAME': 'ip-10-0-74-253.us-west-2.compute.internal', 'TRAINING_JOB_NAME': 'randomcutforest-2022-04-25-19-47-07-211', 'NVIDIA_REQUIRE_CUDA': 'cuda>=9.0', 'TRAINING_JOB_ARN': 'arn:aws:sagemaker:us-west-2:304243717290:training-job/randomcutforest-2022-04-25-19-47-07-211', 'AWS_CONTAINER_CREDENTIALS_RELATIVE_URI': '/v2/credentials/proxy-54113d4ef7130413b4b6b5831f56292544a01b39a90ab7241b1a0af63f9d2b36-customer', 'CANONICAL_ENVROOT': '/opt/amazon', 'PYTHONUNBUFFERED': 'TRUE', 'NVIDIA_VISIBLE_DEVICES': 'all', 'LD_LIBRARY_PATH': '/opt/amazon/lib/python3.7/site-packages/cv2/../../../../lib:/usr/local/nvidia/lib64:/opt/amazon/lib', 'MXNET_KVSTORE_BIGARRAY_BOUND': '400000000', 'NVIDIA_DRIVER_CAPABILITIES': 'compute,utility', 'PATH': '/opt/amazon/bin:/usr/local/nvidia/bin:/usr/local/sbin:/usr/local/bin:/usr/sbin:/usr/bin:/sbin:/bin', 'PWD': '/', 'LANG': 'en_US.utf8', 'AWS_REGION': 'us-west-2', 'SAGEMAKER_METRICS_DIRECTORY': '/opt/ml/output/metrics/sagemaker', 'HOME': '/root', 'SHLVL': '1', 'PROTOCOL_BUFFERS_PYTHON_IMPLEMENTATION_VERSION': '2', 'OMP_NUM_THREADS': '2', 'DMLC_INTERFACE': 'eth0', 'SAGEMAKER_HTTP_PORT': '8080', 'SAGEMAKER_DATA_PATH': '/opt/ml', 'KMP_DUPLICATE_LIB_OK': 'True', 'KMP_INIT_AT_FORK': 'FALSE', 'DMLC_ROLE': 'scheduler', 'DMLC_PS_ROOT_URI': '10.0.74.253', 'DMLC_PS_ROOT_PORT': '9000', 'DMLC_NUM_SERVER': '1', 'DMLC_NUM_WORKER': '1'}\u001b[0m\n",
      "\u001b[34m[04/25/2022 19:50:37 INFO 140701326300992] Launching parameter server for role server\u001b[0m\n",
      "\u001b[34m[04/25/2022 19:50:37 INFO 140701326300992] {'ENVROOT': '/opt/amazon', 'PROTOCOL_BUFFERS_PYTHON_IMPLEMENTATION': 'cpp', 'HOSTNAME': 'ip-10-0-74-253.us-west-2.compute.internal', 'TRAINING_JOB_NAME': 'randomcutforest-2022-04-25-19-47-07-211', 'NVIDIA_REQUIRE_CUDA': 'cuda>=9.0', 'TRAINING_JOB_ARN': 'arn:aws:sagemaker:us-west-2:304243717290:training-job/randomcutforest-2022-04-25-19-47-07-211', 'AWS_CONTAINER_CREDENTIALS_RELATIVE_URI': '/v2/credentials/proxy-54113d4ef7130413b4b6b5831f56292544a01b39a90ab7241b1a0af63f9d2b36-customer', 'CANONICAL_ENVROOT': '/opt/amazon', 'PYTHONUNBUFFERED': 'TRUE', 'NVIDIA_VISIBLE_DEVICES': 'all', 'LD_LIBRARY_PATH': '/opt/amazon/lib/python3.7/site-packages/cv2/../../../../lib:/usr/local/nvidia/lib64:/opt/amazon/lib', 'MXNET_KVSTORE_BIGARRAY_BOUND': '400000000', 'NVIDIA_DRIVER_CAPABILITIES': 'compute,utility', 'PATH': '/opt/amazon/bin:/usr/local/nvidia/bin:/usr/local/sbin:/usr/local/bin:/usr/sbin:/usr/bin:/sbin:/bin', 'PWD': '/', 'LANG': 'en_US.utf8', 'AWS_REGION': 'us-west-2', 'SAGEMAKER_METRICS_DIRECTORY': '/opt/ml/output/metrics/sagemaker', 'HOME': '/root', 'SHLVL': '1', 'PROTOCOL_BUFFERS_PYTHON_IMPLEMENTATION_VERSION': '2', 'OMP_NUM_THREADS': '2', 'DMLC_INTERFACE': 'eth0', 'SAGEMAKER_HTTP_PORT': '8080', 'SAGEMAKER_DATA_PATH': '/opt/ml', 'KMP_DUPLICATE_LIB_OK': 'True', 'KMP_INIT_AT_FORK': 'FALSE'}\u001b[0m\n",
      "\u001b[34m[04/25/2022 19:50:37 INFO 140701326300992] envs={'ENVROOT': '/opt/amazon', 'PROTOCOL_BUFFERS_PYTHON_IMPLEMENTATION': 'cpp', 'HOSTNAME': 'ip-10-0-74-253.us-west-2.compute.internal', 'TRAINING_JOB_NAME': 'randomcutforest-2022-04-25-19-47-07-211', 'NVIDIA_REQUIRE_CUDA': 'cuda>=9.0', 'TRAINING_JOB_ARN': 'arn:aws:sagemaker:us-west-2:304243717290:training-job/randomcutforest-2022-04-25-19-47-07-211', 'AWS_CONTAINER_CREDENTIALS_RELATIVE_URI': '/v2/credentials/proxy-54113d4ef7130413b4b6b5831f56292544a01b39a90ab7241b1a0af63f9d2b36-customer', 'CANONICAL_ENVROOT': '/opt/amazon', 'PYTHONUNBUFFERED': 'TRUE', 'NVIDIA_VISIBLE_DEVICES': 'all', 'LD_LIBRARY_PATH': '/opt/amazon/lib/python3.7/site-packages/cv2/../../../../lib:/usr/local/nvidia/lib64:/opt/amazon/lib', 'MXNET_KVSTORE_BIGARRAY_BOUND': '400000000', 'NVIDIA_DRIVER_CAPABILITIES': 'compute,utility', 'PATH': '/opt/amazon/bin:/usr/local/nvidia/bin:/usr/local/sbin:/usr/local/bin:/usr/sbin:/usr/bin:/sbin:/bin', 'PWD': '/', 'LANG': 'en_US.utf8', 'AWS_REGION': 'us-west-2', 'SAGEMAKER_METRICS_DIRECTORY': '/opt/ml/output/metrics/sagemaker', 'HOME': '/root', 'SHLVL': '1', 'PROTOCOL_BUFFERS_PYTHON_IMPLEMENTATION_VERSION': '2', 'OMP_NUM_THREADS': '2', 'DMLC_INTERFACE': 'eth0', 'SAGEMAKER_HTTP_PORT': '8080', 'SAGEMAKER_DATA_PATH': '/opt/ml', 'KMP_DUPLICATE_LIB_OK': 'True', 'KMP_INIT_AT_FORK': 'FALSE', 'DMLC_ROLE': 'server', 'DMLC_PS_ROOT_URI': '10.0.74.253', 'DMLC_PS_ROOT_PORT': '9000', 'DMLC_NUM_SERVER': '1', 'DMLC_NUM_WORKER': '1'}\u001b[0m\n",
      "\u001b[34m[04/25/2022 19:50:37 INFO 140701326300992] Environment: {'ENVROOT': '/opt/amazon', 'PROTOCOL_BUFFERS_PYTHON_IMPLEMENTATION': 'cpp', 'HOSTNAME': 'ip-10-0-74-253.us-west-2.compute.internal', 'TRAINING_JOB_NAME': 'randomcutforest-2022-04-25-19-47-07-211', 'NVIDIA_REQUIRE_CUDA': 'cuda>=9.0', 'TRAINING_JOB_ARN': 'arn:aws:sagemaker:us-west-2:304243717290:training-job/randomcutforest-2022-04-25-19-47-07-211', 'AWS_CONTAINER_CREDENTIALS_RELATIVE_URI': '/v2/credentials/proxy-54113d4ef7130413b4b6b5831f56292544a01b39a90ab7241b1a0af63f9d2b36-customer', 'CANONICAL_ENVROOT': '/opt/amazon', 'PYTHONUNBUFFERED': 'TRUE', 'NVIDIA_VISIBLE_DEVICES': 'all', 'LD_LIBRARY_PATH': '/opt/amazon/lib/python3.7/site-packages/cv2/../../../../lib:/usr/local/nvidia/lib64:/opt/amazon/lib', 'MXNET_KVSTORE_BIGARRAY_BOUND': '400000000', 'NVIDIA_DRIVER_CAPABILITIES': 'compute,utility', 'PATH': '/opt/amazon/bin:/usr/local/nvidia/bin:/usr/local/sbin:/usr/local/bin:/usr/sbin:/usr/bin:/sbin:/bin', 'PWD': '/', 'LANG': 'en_US.utf8', 'AWS_REGION': 'us-west-2', 'SAGEMAKER_METRICS_DIRECTORY': '/opt/ml/output/metrics/sagemaker', 'HOME': '/root', 'SHLVL': '1', 'PROTOCOL_BUFFERS_PYTHON_IMPLEMENTATION_VERSION': '2', 'OMP_NUM_THREADS': '2', 'DMLC_INTERFACE': 'eth0', 'SAGEMAKER_HTTP_PORT': '8080', 'SAGEMAKER_DATA_PATH': '/opt/ml', 'KMP_DUPLICATE_LIB_OK': 'True', 'KMP_INIT_AT_FORK': 'FALSE', 'DMLC_ROLE': 'worker', 'DMLC_PS_ROOT_URI': '10.0.74.253', 'DMLC_PS_ROOT_PORT': '9000', 'DMLC_NUM_SERVER': '1', 'DMLC_NUM_WORKER': '1'}\u001b[0m\n",
      "\u001b[34mProcess 34 is a shell:scheduler.\u001b[0m\n",
      "\u001b[34mProcess 46 is a shell:server.\u001b[0m\n",
      "\u001b[34mProcess 1 is a worker.\u001b[0m\n",
      "\u001b[34m[04/25/2022 19:50:37 INFO 140701326300992] Using default worker.\u001b[0m\n",
      "\u001b[34m[04/25/2022 19:50:37 INFO 140701326300992] Loaded iterator creator application/x-recordio-protobuf for content type ('application/x-recordio-protobuf', '1.0')\u001b[0m\n",
      "\u001b[34m[04/25/2022 19:50:37 INFO 140701326300992] Checkpoint loading and saving are disabled.\u001b[0m\n",
      "\u001b[34m[04/25/2022 19:50:37 INFO 140701326300992] Verifying hyperparamemters...\u001b[0m\n",
      "\u001b[34m[04/25/2022 19:50:37 INFO 140701326300992] Hyperparameters are correct.\u001b[0m\n",
      "\u001b[34m[04/25/2022 19:50:37 INFO 140701326300992] Validating that feature_dim agrees with dimensions in training data...\u001b[0m\n",
      "\u001b[34m[04/25/2022 19:50:37 INFO 140701326300992] feature_dim is correct.\u001b[0m\n",
      "\u001b[34m[04/25/2022 19:50:37 INFO 140701326300992] Validating memory limits...\u001b[0m\n",
      "\u001b[34m[04/25/2022 19:50:37 INFO 140701326300992] Available memory in bytes: 15272108032\u001b[0m\n",
      "\u001b[34m[04/25/2022 19:50:37 INFO 140701326300992] Estimated sample size in bytes: 2457600\u001b[0m\n",
      "\u001b[34m[04/25/2022 19:50:37 INFO 140701326300992] Estimated memory needed to build the forest in bytes: 6144000\u001b[0m\n",
      "\u001b[34m[04/25/2022 19:50:37 INFO 140701326300992] Memory limits validated.\u001b[0m\n",
      "\u001b[34m[04/25/2022 19:50:37 INFO 140701326300992] Starting cluster sharing facilities...\u001b[0m\n",
      "\u001b[34m[04/25/2022 19:50:37 INFO 140699806709504] concurrency model: async\u001b[0m\n",
      "\u001b[34m[04/25/2022 19:50:37 INFO 140701326300992] Create Store: dist_async\u001b[0m\n",
      "\u001b[34m[04/25/2022 19:50:37 INFO 140699806709504] masquerade (NAT) address: None\u001b[0m\n",
      "\u001b[34m[04/25/2022 19:50:37 INFO 140699806709504] passive ports: None\u001b[0m\n",
      "\u001b[34m[04/25/2022 19:50:37 INFO 140699806709504] >>> starting FTP server on 0.0.0.0:8999, pid=1 <<<\u001b[0m\n",
      "\u001b[34m[04/25/2022 19:50:38 INFO 140701326300992] Cluster sharing facilities started.\u001b[0m\n",
      "\u001b[34m[04/25/2022 19:50:38 INFO 140701326300992] Verifying all workers are accessible...\u001b[0m\n",
      "\u001b[34m[04/25/2022 19:50:38 INFO 140701326300992] All workers accessible.\u001b[0m\n",
      "\u001b[34m[04/25/2022 19:50:38 INFO 140701326300992] Initializing Sampler...\u001b[0m\n",
      "\u001b[34m[04/25/2022 19:50:38 INFO 140701326300992] Sampler correctly initialized.\u001b[0m\n",
      "\u001b[34m#metrics {\"StartTime\": 1650916237.3010325, \"EndTime\": 1650916238.8916194, \"Dimensions\": {\"Algorithm\": \"RandomCutForest\", \"Host\": \"algo-1\", \"Operation\": \"training\"}, \"Metrics\": {\"initialize.time\": {\"sum\": 1580.7678699493408, \"count\": 1, \"min\": 1580.7678699493408, \"max\": 1580.7678699493408}}}\u001b[0m\n",
      "\u001b[34m#metrics {\"StartTime\": 1650916238.8918476, \"EndTime\": 1650916238.8918939, \"Dimensions\": {\"Algorithm\": \"RandomCutForest\", \"Host\": \"algo-1\", \"Operation\": \"training\", \"Meta\": \"init_train_data_iter\"}, \"Metrics\": {\"Total Records Seen\": {\"sum\": 0.0, \"count\": 1, \"min\": 0, \"max\": 0}, \"Total Batches Seen\": {\"sum\": 0.0, \"count\": 1, \"min\": 0, \"max\": 0}, \"Max Records Seen Between Resets\": {\"sum\": 0.0, \"count\": 1, \"min\": 0, \"max\": 0}, \"Max Batches Seen Between Resets\": {\"sum\": 0.0, \"count\": 1, \"min\": 0, \"max\": 0}, \"Reset Count\": {\"sum\": 0.0, \"count\": 1, \"min\": 0, \"max\": 0}, \"Number of Records Since Last Reset\": {\"sum\": 0.0, \"count\": 1, \"min\": 0, \"max\": 0}, \"Number of Batches Since Last Reset\": {\"sum\": 0.0, \"count\": 1, \"min\": 0, \"max\": 0}}}\u001b[0m\n",
      "\u001b[34m[2022-04-25 19:50:38.892] [tensorio] [info] epoch_stats={\"data_pipeline\": \"/opt/ml/input/data/train\", \"epoch\": 0, \"duration\": 1590, \"num_examples\": 1, \"num_bytes\": 48000}\u001b[0m\n",
      "\u001b[34m[04/25/2022 19:50:38 INFO 140701326300992] Sampling training data...\u001b[0m\n",
      "\u001b[34m[2022-04-25 19:50:39.073] [tensorio] [info] epoch_stats={\"data_pipeline\": \"/opt/ml/input/data/train\", \"epoch\": 1, \"duration\": 180, \"num_examples\": 110, \"num_bytes\": 5280000}\u001b[0m\n",
      "\u001b[34m[04/25/2022 19:50:39 INFO 140701326300992] Sampling training data completed.\u001b[0m\n",
      "\u001b[34m#metrics {\"StartTime\": 1650916238.891792, \"EndTime\": 1650916239.088724, \"Dimensions\": {\"Algorithm\": \"RandomCutForest\", \"Host\": \"algo-1\", \"Operation\": \"training\"}, \"Metrics\": {\"epochs\": {\"sum\": 1.0, \"count\": 1, \"min\": 1, \"max\": 1}, \"update.time\": {\"sum\": 196.16413116455078, \"count\": 1, \"min\": 196.16413116455078, \"max\": 196.16413116455078}}}\u001b[0m\n",
      "\u001b[34m[04/25/2022 19:50:39 INFO 140701326300992] Early stop condition met. Stopping training.\u001b[0m\n",
      "\u001b[34m[04/25/2022 19:50:39 INFO 140701326300992] #progress_metric: host=algo-1, completed 100 % epochs\u001b[0m\n",
      "\u001b[34m#metrics {\"StartTime\": 1650916238.8925204, \"EndTime\": 1650916239.0891647, \"Dimensions\": {\"Algorithm\": \"RandomCutForest\", \"Host\": \"algo-1\", \"Operation\": \"training\", \"epoch\": 0, \"Meta\": \"training_data_iter\"}, \"Metrics\": {\"Total Records Seen\": {\"sum\": 110000.0, \"count\": 1, \"min\": 110000, \"max\": 110000}, \"Total Batches Seen\": {\"sum\": 110.0, \"count\": 1, \"min\": 110, \"max\": 110}, \"Max Records Seen Between Resets\": {\"sum\": 110000.0, \"count\": 1, \"min\": 110000, \"max\": 110000}, \"Max Batches Seen Between Resets\": {\"sum\": 110.0, \"count\": 1, \"min\": 110, \"max\": 110}, \"Reset Count\": {\"sum\": 1.0, \"count\": 1, \"min\": 1, \"max\": 1}, \"Number of Records Since Last Reset\": {\"sum\": 110000.0, \"count\": 1, \"min\": 110000, \"max\": 110000}, \"Number of Batches Since Last Reset\": {\"sum\": 110.0, \"count\": 1, \"min\": 110, \"max\": 110}}}\u001b[0m\n",
      "\u001b[34m[04/25/2022 19:50:39 INFO 140701326300992] #throughput_metric: host=algo-1, train throughput=558889.618397176 records/second\u001b[0m\n",
      "\u001b[34m[04/25/2022 19:50:39 INFO 140701326300992] Master node: building Random Cut Forest...\u001b[0m\n",
      "\u001b[34m[04/25/2022 19:50:39 INFO 140701326300992] Gathering samples...\u001b[0m\n",
      "\u001b[34m[04/25/2022 19:50:39 INFO 140701326300992] 51200 samples gathered\u001b[0m\n",
      "\u001b[34m[04/25/2022 19:50:39 INFO 140701326300992] Building Random Cut Forest...\u001b[0m\n",
      "\u001b[34m[04/25/2022 19:50:39 INFO 140701326300992] Random Cut Forest built: \u001b[0m\n",
      "\u001b[34mForestInfo{num_trees: 100, num_samples_in_forest: 51200, num_samples_per_tree: 512, sample_dim: 3, shingle_size: 1, trees_num_nodes: [733, 735, 729, 733, 761, 713, 729, 747, 729, 745, 741, 713, 735, 723, 735, 743, 739, 739, 735, 723, 735, 735, 761, 739, 723, 741, 749, 781, 735, 733, 753, 737, 725, 735, 731, 737, 729, 713, 727, 759, 723, 733, 723, 739, 737, 733, 743, 747, 741, 731, 729, 727, 717, 739, 729, 715, 739, 737, 723, 723, 741, 733, 729, 707, 731, 729, 765, 717, 735, 727, 725, 743, 733, 721, 747, 719, 727, 727, 725, 729, 721, 733, 745, 729, 733, 731, 735, 743, 729, 733, 761, 731, 773, 715, 723, 745, 763, 725, 743, 729, ], trees_depth: [21, 22, 19, 19, 21, 22, 22, 21, 22, 20, 28, 25, 25, 29, 20, 22, 23, 25, 27, 23, 26, 20, 22, 25, 23, 20, 25, 20, 21, 21, 22, 19, 20, 24, 18, 23, 22, 21, 20, 20, 23, 23, 20, 20, 25, 20, 26, 22, 21, 24, 18, 19, 19, 27, 21, 23, 21, 24, 22, 19, 21, 25, 24, 21, 22, 21, 18, 19, 29, 19, 18, 24, 21, 23, 22, 21, 24, 19, 21, 26, 20, 23, 21, 20, 20, 27, 22, 24, 19, 21, 20, 18, 22, 22, 18, 20, 23, 18, 18, 23, ], max_num_nodes: 781, min_num_nodes: 707, avg_num_nodes: 734, max_tree_depth: 29, min_tree_depth: 18, avg_tree_depth: 21, mem_size: 9988144}\u001b[0m\n",
      "\u001b[34m#metrics {\"StartTime\": 1650916239.0888422, \"EndTime\": 1650916239.1676397, \"Dimensions\": {\"Algorithm\": \"RandomCutForest\", \"Host\": \"algo-1\", \"Operation\": \"training\"}, \"Metrics\": {\"fit_model.time\": {\"sum\": 34.79337692260742, \"count\": 1, \"min\": 34.79337692260742, \"max\": 34.79337692260742}, \"model.bytes\": {\"sum\": 9988144.0, \"count\": 1, \"min\": 9988144, \"max\": 9988144}, \"finalize.time\": {\"sum\": 78.0172348022461, \"count\": 1, \"min\": 78.0172348022461, \"max\": 78.0172348022461}}}\u001b[0m\n",
      "\u001b[34m[04/25/2022 19:50:39 INFO 140701326300992] Master node: Serializing the RandomCutForest model\u001b[0m\n",
      "\u001b[34m#metrics {\"StartTime\": 1650916239.1678038, \"EndTime\": 1650916239.3624117, \"Dimensions\": {\"Algorithm\": \"RandomCutForest\", \"Host\": \"algo-1\", \"Operation\": \"training\"}, \"Metrics\": {\"serialize_model.time\": {\"sum\": 194.54312324523926, \"count\": 1, \"min\": 194.54312324523926, \"max\": 194.54312324523926}}}\u001b[0m\n",
      "\u001b[34m[04/25/2022 19:50:39 INFO 140701326300992] Test data is not provided.\u001b[0m\n",
      "\u001b[34m#metrics {\"StartTime\": 1650916239.3625028, \"EndTime\": 1650916239.3626053, \"Dimensions\": {\"Algorithm\": \"RandomCutForest\", \"Host\": \"algo-1\", \"Operation\": \"training\"}, \"Metrics\": {\"setuptime\": {\"sum\": 37.74738311767578, \"count\": 1, \"min\": 37.74738311767578, \"max\": 37.74738311767578}, \"totaltime\": {\"sum\": 2111.685276031494, \"count\": 1, \"min\": 2111.685276031494, \"max\": 2111.685276031494}}}\u001b[0m\n",
      "\u001b[34m[04/25/2022 19:50:39 INFO 140701326300992 integration.py:636] worker closed\u001b[0m\n",
      "\n",
      "2022-04-25 19:50:52 Uploading - Uploading generated training model\n",
      "2022-04-25 19:50:52 Completed - Training job completed\n",
      "Training seconds: 114\n",
      "Billable seconds: 114\n"
     ]
    }
   ],
   "source": [
    "from sagemaker import RandomCutForest\n",
    "\n",
    "session = sagemaker.Session()\n",
    "\n",
    "# specify general training job information\n",
    "rcf = RandomCutForest(\n",
    "    role=role,\n",
    "    instance_count=1,\n",
    "    instance_type=\"ml.m4.xlarge\",\n",
    "    data_location=f\"s3://{S3_BUCKET}/\",\n",
    "    output_path=f\"s3://{S3_BUCKET}/output\",\n",
    "    num_samples_per_tree=512,               # -- change 512, 1024 or some other fraction of file size \n",
    "    num_trees=100,                          # -- number of trees, more is generally good 50 - 1k is generally fine. \n",
    ")\n",
    "\n",
    "# automatically upload the training data to S3 and run the training job\n",
    "rcf.fit(rcf.record_set(df[numeric_features].to_numpy().reshape(-1,feature_count)))"
   ]
  },
  {
   "cell_type": "code",
   "execution_count": 17,
   "id": "2fbc68e9",
   "metadata": {},
   "outputs": [
    {
     "name": "stderr",
     "output_type": "stream",
     "text": [
      "Defaulting to the only supported framework/algorithm version: 1. Ignoring framework/algorithm version: 1.\n"
     ]
    },
    {
     "name": "stdout",
     "output_type": "stream",
     "text": [
      "-------!"
     ]
    },
    {
     "data": {
      "text/plain": [
       "<sagemaker.amazon.randomcutforest.RandomCutForestPredictor at 0x7f360a38b6d8>"
      ]
     },
     "execution_count": 17,
     "metadata": {},
     "output_type": "execute_result"
    }
   ],
   "source": [
    "# -- deploys model \n",
    "rcf_inference = rcf.deploy(initial_instance_count=1, instance_type=\"ml.m4.xlarge\")\n",
    "rcf_inference"
   ]
  },
  {
   "cell_type": "code",
   "execution_count": 18,
   "id": "2f0a3079",
   "metadata": {},
   "outputs": [
    {
     "name": "stderr",
     "output_type": "stream",
     "text": [
      "The endpoint attribute has been renamed in sagemaker>=2.\n",
      "See: https://sagemaker.readthedocs.io/en/stable/v2.html for details.\n"
     ]
    },
    {
     "name": "stdout",
     "output_type": "stream",
     "text": [
      "Endpoint name: randomcutforest-2022-04-25-19-59-51-104\n"
     ]
    }
   ],
   "source": [
    "# -- name of the endpiont \n",
    "print(f\"Endpoint name: {rcf_inference.endpoint}\")"
   ]
  },
  {
   "cell_type": "code",
   "execution_count": 19,
   "id": "dd05ecf8",
   "metadata": {},
   "outputs": [],
   "source": [
    "# -- setup for predictions \n",
    "from sagemaker.serializers import CSVSerializer\n",
    "from sagemaker.deserializers import JSONDeserializer\n",
    "\n",
    "rcf_inference.serializer = CSVSerializer()\n",
    "rcf_inference.deserializer = JSONDeserializer()"
   ]
  },
  {
   "cell_type": "markdown",
   "id": "6bcbbff2",
   "metadata": {},
   "source": [
    "## Evaluate \n",
    "\n",
    "-----\n",
    "\n",
    "So here we are going to score the dataset and evaluate a \"suggested\" outlier score threshold. this will ultimately be used to create our new \"EVENT_LABEL\" \n",
    "\n",
    "1. first score the entire dataset \n",
    "2. identify a \"sugested outlier score threshold\"  based on identifying the top 400 most anomalous events.  \n",
    "3. Finally we'll look at the number of \"anomalies\" produced at the \"sugested outlier_score threshold\", you can simply increase or decrease the threshold to generate the number of anomalies.  \n",
    "\n",
    "> Once you are satisfied with the sugested_threshold, it will be used to create your EVENT_LABEL.\n",
    "\n",
    "you can override the sugestion by simply plugging in a new value for example\n",
    "```python\n",
    "\n",
    "RCF_ANOMALY_THRESHOLD = 3.0\n",
    "\n",
    "```\n"
   ]
  },
  {
   "cell_type": "code",
   "execution_count": 50,
   "id": "b661e559",
   "metadata": {},
   "outputs": [
    {
     "data": {
      "text/html": [
       "<div>\n",
       "<style scoped>\n",
       "    .dataframe tbody tr th:only-of-type {\n",
       "        vertical-align: middle;\n",
       "    }\n",
       "\n",
       "    .dataframe tbody tr th {\n",
       "        vertical-align: top;\n",
       "    }\n",
       "\n",
       "    .dataframe thead th {\n",
       "        text-align: right;\n",
       "    }\n",
       "</style>\n",
       "<table border=\"1\" class=\"dataframe\">\n",
       "  <thead>\n",
       "    <tr style=\"text-align: right;\">\n",
       "      <th></th>\n",
       "      <th>account_tenure_yrs</th>\n",
       "      <th>normalized_currency_amt</th>\n",
       "      <th>original_currency_amt</th>\n",
       "      <th>currency</th>\n",
       "      <th>EVENT_TIMESTAMP</th>\n",
       "      <th>ip_address</th>\n",
       "      <th>email_address</th>\n",
       "      <th>EVENT_LABEL</th>\n",
       "      <th>EVENT_LABEL2</th>\n",
       "      <th>outlier_score</th>\n",
       "    </tr>\n",
       "  </thead>\n",
       "  <tbody>\n",
       "    <tr>\n",
       "      <th>0</th>\n",
       "      <td>11.0</td>\n",
       "      <td>38334.0</td>\n",
       "      <td>36466.0</td>\n",
       "      <td>eur</td>\n",
       "      <td>2021-08-14 05:38:58</td>\n",
       "      <td>57.115.15.248</td>\n",
       "      <td>lcarlson@example.org</td>\n",
       "      <td>legit</td>\n",
       "      <td>legit</td>\n",
       "      <td>0.683440</td>\n",
       "    </tr>\n",
       "    <tr>\n",
       "      <th>1</th>\n",
       "      <td>6.0</td>\n",
       "      <td>50104.0</td>\n",
       "      <td>24775.0</td>\n",
       "      <td>usd</td>\n",
       "      <td>2021-10-21 13:29:39</td>\n",
       "      <td>203.218.41.214</td>\n",
       "      <td>brianfowler@example.org</td>\n",
       "      <td>legit</td>\n",
       "      <td>legit</td>\n",
       "      <td>0.724233</td>\n",
       "    </tr>\n",
       "    <tr>\n",
       "      <th>2</th>\n",
       "      <td>16.0</td>\n",
       "      <td>21516.0</td>\n",
       "      <td>46364.0</td>\n",
       "      <td>usd</td>\n",
       "      <td>2021-06-18 03:28:47</td>\n",
       "      <td>131.7.35.71</td>\n",
       "      <td>lthomas@example.org</td>\n",
       "      <td>legit</td>\n",
       "      <td>legit</td>\n",
       "      <td>1.002810</td>\n",
       "    </tr>\n",
       "    <tr>\n",
       "      <th>3</th>\n",
       "      <td>6.0</td>\n",
       "      <td>50446.0</td>\n",
       "      <td>23668.0</td>\n",
       "      <td>usd</td>\n",
       "      <td>2021-05-08 22:44:29</td>\n",
       "      <td>150.245.11.96</td>\n",
       "      <td>victoria20@example.com</td>\n",
       "      <td>legit</td>\n",
       "      <td>legit</td>\n",
       "      <td>0.733472</td>\n",
       "    </tr>\n",
       "    <tr>\n",
       "      <th>4</th>\n",
       "      <td>10.0</td>\n",
       "      <td>43560.0</td>\n",
       "      <td>32309.0</td>\n",
       "      <td>eur</td>\n",
       "      <td>2021-08-24 00:17:08</td>\n",
       "      <td>155.110.112.38</td>\n",
       "      <td>amandamartinez@example.com</td>\n",
       "      <td>legit</td>\n",
       "      <td>legit</td>\n",
       "      <td>0.635333</td>\n",
       "    </tr>\n",
       "  </tbody>\n",
       "</table>\n",
       "</div>"
      ],
      "text/plain": [
       "   account_tenure_yrs  normalized_currency_amt  original_currency_amt  \\\n",
       "0                11.0                  38334.0                36466.0   \n",
       "1                 6.0                  50104.0                24775.0   \n",
       "2                16.0                  21516.0                46364.0   \n",
       "3                 6.0                  50446.0                23668.0   \n",
       "4                10.0                  43560.0                32309.0   \n",
       "\n",
       "  currency      EVENT_TIMESTAMP      ip_address               email_address  \\\n",
       "0      eur  2021-08-14 05:38:58   57.115.15.248        lcarlson@example.org   \n",
       "1      usd  2021-10-21 13:29:39  203.218.41.214     brianfowler@example.org   \n",
       "2      usd  2021-06-18 03:28:47     131.7.35.71         lthomas@example.org   \n",
       "3      usd  2021-05-08 22:44:29   150.245.11.96      victoria20@example.com   \n",
       "4      eur  2021-08-24 00:17:08  155.110.112.38  amandamartinez@example.com   \n",
       "\n",
       "  EVENT_LABEL EVENT_LABEL2  outlier_score  \n",
       "0       legit        legit       0.683440  \n",
       "1       legit        legit       0.724233  \n",
       "2       legit        legit       1.002810  \n",
       "3       legit        legit       0.733472  \n",
       "4       legit        legit       0.635333  "
      ]
     },
     "execution_count": 50,
     "metadata": {},
     "output_type": "execute_result"
    }
   ],
   "source": [
    "# keep any existing labels \n",
    "df[\"EVENT_LABEL2\"] = df[\"EVENT_LABEL\"]\n",
    "df.head()"
   ]
  },
  {
   "cell_type": "code",
   "execution_count": 49,
   "id": "87ab7abf",
   "metadata": {},
   "outputs": [
    {
     "data": {
      "text/html": [
       "<div>\n",
       "<style scoped>\n",
       "    .dataframe tbody tr th:only-of-type {\n",
       "        vertical-align: middle;\n",
       "    }\n",
       "\n",
       "    .dataframe tbody tr th {\n",
       "        vertical-align: top;\n",
       "    }\n",
       "\n",
       "    .dataframe thead th {\n",
       "        text-align: right;\n",
       "    }\n",
       "</style>\n",
       "<table border=\"1\" class=\"dataframe\">\n",
       "  <thead>\n",
       "    <tr style=\"text-align: right;\">\n",
       "      <th></th>\n",
       "      <th>account_tenure_yrs</th>\n",
       "      <th>normalized_currency_amt</th>\n",
       "      <th>original_currency_amt</th>\n",
       "      <th>currency</th>\n",
       "      <th>EVENT_TIMESTAMP</th>\n",
       "      <th>ip_address</th>\n",
       "      <th>email_address</th>\n",
       "      <th>EVENT_LABEL</th>\n",
       "      <th>EVENT_LABEL2</th>\n",
       "      <th>outlier_score</th>\n",
       "    </tr>\n",
       "  </thead>\n",
       "  <tbody>\n",
       "    <tr>\n",
       "      <th>0</th>\n",
       "      <td>11.0</td>\n",
       "      <td>38334.0</td>\n",
       "      <td>36466.0</td>\n",
       "      <td>eur</td>\n",
       "      <td>2021-08-14 05:38:58</td>\n",
       "      <td>57.115.15.248</td>\n",
       "      <td>lcarlson@example.org</td>\n",
       "      <td>legit</td>\n",
       "      <td>legit</td>\n",
       "      <td>0.683440</td>\n",
       "    </tr>\n",
       "    <tr>\n",
       "      <th>1</th>\n",
       "      <td>6.0</td>\n",
       "      <td>50104.0</td>\n",
       "      <td>24775.0</td>\n",
       "      <td>usd</td>\n",
       "      <td>2021-10-21 13:29:39</td>\n",
       "      <td>203.218.41.214</td>\n",
       "      <td>brianfowler@example.org</td>\n",
       "      <td>legit</td>\n",
       "      <td>legit</td>\n",
       "      <td>0.724233</td>\n",
       "    </tr>\n",
       "    <tr>\n",
       "      <th>2</th>\n",
       "      <td>16.0</td>\n",
       "      <td>21516.0</td>\n",
       "      <td>46364.0</td>\n",
       "      <td>usd</td>\n",
       "      <td>2021-06-18 03:28:47</td>\n",
       "      <td>131.7.35.71</td>\n",
       "      <td>lthomas@example.org</td>\n",
       "      <td>legit</td>\n",
       "      <td>legit</td>\n",
       "      <td>1.002810</td>\n",
       "    </tr>\n",
       "    <tr>\n",
       "      <th>3</th>\n",
       "      <td>6.0</td>\n",
       "      <td>50446.0</td>\n",
       "      <td>23668.0</td>\n",
       "      <td>usd</td>\n",
       "      <td>2021-05-08 22:44:29</td>\n",
       "      <td>150.245.11.96</td>\n",
       "      <td>victoria20@example.com</td>\n",
       "      <td>legit</td>\n",
       "      <td>legit</td>\n",
       "      <td>0.733472</td>\n",
       "    </tr>\n",
       "    <tr>\n",
       "      <th>4</th>\n",
       "      <td>10.0</td>\n",
       "      <td>43560.0</td>\n",
       "      <td>32309.0</td>\n",
       "      <td>eur</td>\n",
       "      <td>2021-08-24 00:17:08</td>\n",
       "      <td>155.110.112.38</td>\n",
       "      <td>amandamartinez@example.com</td>\n",
       "      <td>legit</td>\n",
       "      <td>legit</td>\n",
       "      <td>0.635333</td>\n",
       "    </tr>\n",
       "  </tbody>\n",
       "</table>\n",
       "</div>"
      ],
      "text/plain": [
       "   account_tenure_yrs  normalized_currency_amt  original_currency_amt  \\\n",
       "0                11.0                  38334.0                36466.0   \n",
       "1                 6.0                  50104.0                24775.0   \n",
       "2                16.0                  21516.0                46364.0   \n",
       "3                 6.0                  50446.0                23668.0   \n",
       "4                10.0                  43560.0                32309.0   \n",
       "\n",
       "  currency      EVENT_TIMESTAMP      ip_address               email_address  \\\n",
       "0      eur  2021-08-14 05:38:58   57.115.15.248        lcarlson@example.org   \n",
       "1      usd  2021-10-21 13:29:39  203.218.41.214     brianfowler@example.org   \n",
       "2      usd  2021-06-18 03:28:47     131.7.35.71         lthomas@example.org   \n",
       "3      usd  2021-05-08 22:44:29   150.245.11.96      victoria20@example.com   \n",
       "4      eur  2021-08-24 00:17:08  155.110.112.38  amandamartinez@example.com   \n",
       "\n",
       "  EVENT_LABEL EVENT_LABEL2  outlier_score  \n",
       "0       legit        legit       0.683440  \n",
       "1       legit        legit       0.724233  \n",
       "2       legit        legit       1.002810  \n",
       "3       legit        legit       0.733472  \n",
       "4       legit        legit       0.635333  "
      ]
     },
     "execution_count": 49,
     "metadata": {},
     "output_type": "execute_result"
    }
   ],
   "source": [
    "# -- 1. score entire datset \n",
    "scored_data = df[numeric_features].to_numpy().reshape(-1, feature_count)\n",
    "results = rcf_inference.predict(scored_data)\n",
    "scores = [datum[\"score\"] for datum in results[\"scores\"]]\n",
    "\n",
    "# add scores to taxi data frame and print first few values\n",
    "df[\"outlier_score\"] = pd.Series(scores, df.index)\n",
    "df.head()\n"
   ]
  },
  {
   "cell_type": "markdown",
   "id": "e18b086a",
   "metadata": {},
   "source": [
    "## Remember your selected Anomaly Score! \n",
    "\n",
    "-----\n",
    "\n",
    "You'll use this anomaly score in AFD to identitify potential anomalies in new data. write it down! \n",
    "\n"
   ]
  },
  {
   "cell_type": "code",
   "execution_count": 51,
   "id": "315fb177",
   "metadata": {},
   "outputs": [
    {
     "name": "stdout",
     "output_type": "stream",
     "text": [
      "sugested outlier_score threshold 2.064\n"
     ]
    }
   ],
   "source": [
    "# -- 2. sugested score threshold --- \n",
    "RCF_ANOMALY_THRESHOLD = df.sort_values(\"outlier_score\", ascending=False).iloc[400][\"outlier_score\"]\n",
    "print(\"sugested outlier_score threshold {:.3f}\".format(RCF_ANOMALY_THRESHOLD))"
   ]
  },
  {
   "cell_type": "code",
   "execution_count": 53,
   "id": "54626c08",
   "metadata": {},
   "outputs": [
    {
     "name": "stdout",
     "output_type": "stream",
     "text": [
      "Original fraud labels + some overlapping number of Anomalies\n",
      "legit    108611\n",
      "fraud      1389\n",
      "Name: EVENT_LABEL, dtype: int64\n"
     ]
    },
    {
     "data": {
      "text/plain": [
       "<matplotlib.lines.Line2D at 0x7f360bdfc940>"
      ]
     },
     "execution_count": 53,
     "metadata": {},
     "output_type": "execute_result"
    },
    {
     "data": {
      "image/png": "[encoded data removed]",
      "text/plain": [
       "<Figure size 1440x576 with 1 Axes>"
      ]
     },
     "metadata": {
      "needs_background": "light"
     },
     "output_type": "display_data"
    }
   ],
   "source": [
    "# -- pick a threshold here i use 2, docs often recomend 3 key is to identify enough variables to train a model \n",
    "if event_label_ind == 0:\n",
    "    df[\"EVENT_LABEL\"]  = np.where(df[\"outlier_score\"] >= RCF_ANOMALY_THRESHOLD, \"fraud\",\"legit\")\n",
    "    print(df[\"EVENT_LABEL\"].value_counts())\n",
    "\n",
    "if event_label_ind == 1:\n",
    "    df[\"EVENT_LABEL\"] = np.where((df[\"outlier_score\"] >= RCF_ANOMALY_THRESHOLD)  ,\"fraud\", df[\"EVENT_LABEL\"])\n",
    "    df[\"RCF_PREDICTION\"] = np.where(df[\"outlier_score\"] >= RCF_ANOMALY_THRESHOLD, \"fraud\",\"legit\")\n",
    "    print(\"Original fraud labels + some overlapping number of Anomalies\")\n",
    "    print(df[\"EVENT_LABEL\"].value_counts())    \n",
    "    \n",
    "\n",
    "plt.figure(figsize = (20,8))\n",
    "sns.histplot(data=df,x=\"outlier_score\", bins=100, )\n",
    "plt.title(\"Predicted Score Distribution - Pick a Threshold\")\n",
    "plt.xlabel(\"Predicted Score\")\n",
    "plt.ylabel(\"Frequency\")\n",
    "plt.xlim(df[\"outlier_score\"].min(), df[\"outlier_score\"].max())\n",
    "plt.text(x=RCF_ANOMALY_THRESHOLD - 0.5,y=3000,s=\"Predicted LEGIT\", fontsize=15)\n",
    "plt.text(x=RCF_ANOMALY_THRESHOLD + 0.25,y=3000,s=\"Predicted FRAUD\", fontsize=15)\n",
    "plt.axvline(x=RCF_ANOMALY_THRESHOLD, ls='--', linewidth = 2, c='grey')"
   ]
  },
  {
   "cell_type": "code",
   "execution_count": 54,
   "id": "66484b8b",
   "metadata": {},
   "outputs": [
    {
     "data": {
      "image/png": "[encoded data removed]",
      "text/plain": [
       "<Figure size 1440x720 with 1 Axes>"
      ]
     },
     "metadata": {
      "needs_background": "light"
     },
     "output_type": "display_data"
    }
   ],
   "source": [
    "df[\"score_bin\"] = pd.cut(df[\"outlier_score\"],bins=10, include_lowest=True).astype(str)\n",
    "\n",
    "# -- normalize index converts to row percetages, sort ascending=False means it will sort largest to smallest \n",
    "ctab = pd.crosstab(df[\"score_bin\"], df[\"EVENT_LABEL2\"], normalize=\"index\").reset_index()\n",
    "ctab\n",
    "\n",
    "\n",
    "plt.figure(figsize=(20,10))\n",
    "# -- check out bottom \n",
    "plt.bar(ctab['score_bin'], ctab['legit'], facecolor='lightblue', alpha=0.5)\n",
    "plt.bar(ctab['score_bin'], ctab['fraud'], bottom=ctab['legit'], facecolor='red', alpha=0.5)\n",
    "plt.title('Actual - Fraud Rate by Anomaly Score Bin')\n",
    "#plt.xticks([])\n",
    "plt.show()"
   ]
  },
  {
   "cell_type": "code",
   "execution_count": 55,
   "id": "f0477b09",
   "metadata": {},
   "outputs": [
    {
     "data": {
      "image/png": "[encoded data removed]",
      "text/plain": [
       "<Figure size 1440x576 with 1 Axes>"
      ]
     },
     "metadata": {
      "needs_background": "light"
     },
     "output_type": "display_data"
    }
   ],
   "source": [
    "# -- check the distribution by Label --\n",
    "plt.figure(figsize=(20,8))\n",
    "np.warnings.filterwarnings('ignore', category=np.VisibleDeprecationWarning)\n",
    "plt.hist([df[df[\"EVENT_LABEL2\"]== \"legit\"]['outlier_score'], \n",
    "          df[df[\"EVENT_LABEL2\"]== \"fraud\"]['outlier_score']], bins = 100)\n",
    "plt.legend([\"Legit\", \"Fraud\"])\n",
    "plt.title(\"Event Frequency by Anomaly Score\")\n",
    "plt.xlabel(\"Predicted Score\")\n",
    "plt.ylabel(\"Frequency\")\n",
    "plt.text(x=RCF_ANOMALY_THRESHOLD - 0.5,y=3000,s=\"Predicted LEGIT\", fontsize=15)\n",
    "plt.text(x=RCF_ANOMALY_THRESHOLD + 0.5,y=3000,s=\"Predicted FRAUD\", fontsize=15)\n",
    "plt.axvline(x=RCF_ANOMALY_THRESHOLD, ls='--', linewidth = 2, c='grey')\n",
    "plt.show()"
   ]
  },
  {
   "cell_type": "code",
   "execution_count": 56,
   "id": "d56b23a0",
   "metadata": {},
   "outputs": [
    {
     "name": "stdout",
     "output_type": "stream",
     "text": [
      "Confusion Matrix by Outcomes:\n"
     ]
    },
    {
     "data": {
      "text/plain": [
       "Text(0.5, 1.0, 'precision: 41.15% \\n recall: 14.31%')"
      ]
     },
     "execution_count": 56,
     "metadata": {},
     "output_type": "execute_result"
    },
    {
     "data": {
      "image/png": "[encoded data removed]",
      "text/plain": [
       "<Figure size 1440x576 with 1 Axes>"
      ]
     },
     "metadata": {
      "needs_background": "light"
     },
     "output_type": "display_data"
    }
   ],
   "source": [
    "plt.figure(figsize = (20,8))\n",
    "print(\"Confusion Matrix by Outcomes:\")\n",
    "from sklearn.metrics import precision_score, recall_score\n",
    "\n",
    "precision = precision_score(df[\"EVENT_LABEL2\"], df[\"RCF_PREDICTION\"], average='binary', pos_label=\"fraud\")\n",
    "recall = recall_score(df[\"EVENT_LABEL2\"], df[\"RCF_PREDICTION\"],  average='binary', pos_label=\"fraud\")\n",
    "\n",
    "confusion_matrix = pd.crosstab(df[\"EVENT_LABEL2\"], \n",
    "                               df['RCF_PREDICTION'].astype(str), margins=False, \n",
    "                               rownames=['Actual'], colnames=['Predicted'])\n",
    "\n",
    "annot_kws={'fontsize':30, \n",
    "           'fontstyle':'italic',  \n",
    "           'verticalalignment':'center',\n",
    "           }\n",
    "\n",
    "sns.heatmap(confusion_matrix, annot=True, fmt='g',cmap=\"coolwarm\",\n",
    "            annot_kws= annot_kws,cbar = False,\n",
    "            linewidths=4)\n",
    "\n",
    "plt.suptitle(\"Confusion Matrix Predicted by Actual @ Threshold of {}\".format(RCF_ANOMALY_THRESHOLD))\n",
    "plt.title(\"precision: {:.2f}% \\n recall: {:.2f}%\".format(precision*100, recall*100))\n",
    "\n",
    " "
   ]
  },
  {
   "cell_type": "markdown",
   "id": "33aeb9d1",
   "metadata": {},
   "source": [
    "## Connect your RandomCutForest to Amazon Fraud Detector! \n",
    "\n",
    "----\n",
    "Finaly, we need to connect Amazon Fraud Detector to our Random Cut Forest to do this we need the following\n",
    "\n",
    "1. create an external varaible created where dataSource='EXTERNAL_MODEL_SCORE'\n",
    "2. add the endpooint as n external model to Amazon Fraud Detector\n",
    " "
   ]
  },
  {
   "cell_type": "code",
   "execution_count": 57,
   "id": "5b41eb49",
   "metadata": {},
   "outputs": [],
   "source": [
    "import boto3\n",
    "fraudDetector = boto3.client('frauddetector')"
   ]
  },
  {
   "cell_type": "code",
   "execution_count": 58,
   "id": "7aecf20a",
   "metadata": {},
   "outputs": [],
   "source": [
    "# 1. create an external varaible created where dataSource='EXTERNAL_MODEL_SCORE'\n",
    "response = fraudDetector.create_variable(\n",
    "    name='rcf_anomaly_score',\n",
    "    dataType='FLOAT',\n",
    "    dataSource='EXTERNAL_MODEL_SCORE',\n",
    "    defaultValue='0.0',\n",
    "    description='random cut forest score',\n",
    "    variableType='NUMERIC',\n",
    "    tags=[\n",
    "        {\n",
    "            'key': 'string',\n",
    "            'value': 'string'\n",
    "        },\n",
    "    ]\n",
    ")\n",
    "response"
   ]
  },
  {
   "cell_type": "code",
   "execution_count": 59,
   "id": "528ef796",
   "metadata": {},
   "outputs": [
    {
     "name": "stderr",
     "output_type": "stream",
     "text": [
      "The endpoint attribute has been renamed in sagemaker>=2.\n",
      "See: https://sagemaker.readthedocs.io/en/stable/v2.html for details.\n"
     ]
    },
    {
     "data": {
      "text/plain": [
       "{'ResponseMetadata': {'RequestId': '9da29726-4327-421b-be42-d52d20f8ed3a',\n",
       "  'HTTPStatusCode': 200,\n",
       "  'HTTPHeaders': {'date': 'Mon, 25 Apr 2022 20:17:57 GMT',\n",
       "   'content-type': 'application/x-amz-json-1.1',\n",
       "   'content-length': '2',\n",
       "   'connection': 'keep-alive',\n",
       "   'x-amzn-requestid': '9da29726-4327-421b-be42-d52d20f8ed3a'},\n",
       "  'RetryAttempts': 0}}"
      ]
     },
     "execution_count": 59,
     "metadata": {},
     "output_type": "execute_result"
    }
   ],
   "source": [
    "# -- 2. add the endpooint as n external model to Amazon Fraud Detector\n",
    "\n",
    "fraudDetector.put_external_model (\n",
    "modelSource = 'SAGEMAKER',\n",
    "modelEndpoint = rcf_inference.endpoint,\n",
    "invokeModelEndpointRoleArn = 'arn:aws:iam::304243717290:role/service-role/AmazonFraudDetector-SagemakerExecutionRole-1649875362910',\n",
    "inputConfiguration = {\n",
    "    'useEventVariables' : True,\n",
    "    'eventTypeName' : 'rcf_event',\n",
    "    'format' : 'TEXT_CSV',\n",
    "    'csvInputTemplate' : '{{account_tenure_yrs}}, {{normalized_currency_amt}}, {{original_currency_amt}}'\n",
    "},\n",
    "\n",
    "outputConfiguration = {\n",
    "    'format' : 'TEXT_CSV',\n",
    "    'csvIndexToVariableMap' : {\n",
    "        '0' : 'rcf_anomaly_score'\n",
    "    }\n",
    "}, \n",
    "modelEndpointStatus = 'ASSOCIATED'\n",
    ")"
   ]
  },
  {
   "cell_type": "code",
   "execution_count": null,
   "id": "3e91c3aa",
   "metadata": {},
   "outputs": [],
   "source": []
  }
 ],
 "metadata": {
  "kernelspec": {
   "display_name": "conda_python3",
   "language": "python",
   "name": "conda_python3"
  },
  "language_info": {
   "codemirror_mode": {
    "name": "ipython",
    "version": 3
   },
   "file_extension": ".py",
   "mimetype": "text/x-python",
   "name": "python",
   "nbconvert_exporter": "python",
   "pygments_lexer": "ipython3",
   "version": "3.6.13"
  }
 },
 "nbformat": 4,
 "nbformat_minor": 5
}
